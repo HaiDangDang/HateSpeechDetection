{
 "cells": [
  {
   "cell_type": "code",
   "execution_count": 1,
   "metadata": {},
   "outputs": [
    {
     "name": "stdout",
     "output_type": "stream",
     "text": [
      "🦥 Unsloth: Will patch your computer to enable 2x faster free finetuning.\n",
      "🦥 Unsloth Zoo will now patch everything to make training faster!\n"
     ]
    }
   ],
   "source": [
    "import pandas as pd\n",
    "import json\n",
    "import os\n",
    "import ast\n",
    "import re\n",
    "import numpy as np\n",
    "import matplotlib.pyplot as plt\n",
    "import torch\n",
    "from time import time\n",
    "from sklearn.metrics import roc_curve, roc_auc_score, accuracy_score, f1_score,  recall_score, confusion_matrix, precision_score\n",
    "from transformers import (\n",
    "    set_seed,\n",
    ")\n",
    "set_seed(42)\n",
    "\n",
    "from unsloth import FastLanguageModel\n",
    "max_seq_length = 500\n",
    "from tqdm import tqdm\n",
    "\n",
    "import pickle"
   ]
  },
  {
   "cell_type": "code",
   "execution_count": 2,
   "metadata": {},
   "outputs": [],
   "source": [
    "pd.set_option(\"display.max_rows\", None)  # Show all rows\n",
    "pd.set_option(\"display.max_columns\", None)  # Show all columns\n",
    "pd.set_option(\"display.width\", None)  # Adjust width to fit content\n",
    "pd.set_option(\"display.colheader_justify\", \"left\")  # Align headers\n",
    "pd.set_option(\"display.max_colwidth\", None)  # Prevent column truncation\n"
   ]
  },
  {
   "cell_type": "code",
   "execution_count": 3,
   "metadata": {},
   "outputs": [
    {
     "name": "stdout",
     "output_type": "stream",
     "text": [
      "/root/0_Thesis/0_final\n"
     ]
    }
   ],
   "source": [
    "if os.getcwd() == '/root':\n",
    "    new_path = \"/root/0_Thesis/0_final/\"\n",
    "    os.chdir(new_path)\n",
    "else:\n",
    "    os.chdir(\"..\") \n",
    "print(os.getcwd())"
   ]
  },
  {
   "cell_type": "markdown",
   "metadata": {},
   "source": [
    "# Section 1: Binary"
   ]
  },
  {
   "cell_type": "code",
   "execution_count": 4,
   "metadata": {},
   "outputs": [
    {
     "data": {
      "text/plain": [
       "71"
      ]
     },
     "execution_count": 4,
     "metadata": {},
     "output_type": "execute_result"
    }
   ],
   "source": [
    "results_binary = pickle.load(open(\"6_evaluation/all_binary_result.pkl\", \"rb\"))\n",
    "len(results_binary)"
   ]
  },
  {
   "cell_type": "code",
   "execution_count": 5,
   "metadata": {},
   "outputs": [
    {
     "name": "stderr",
     "output_type": "stream",
     "text": [
      "/root/envs/ros_env/lib/python3.11/site-packages/sklearn/metrics/_classification.py:1565: UndefinedMetricWarning: Precision is ill-defined and being set to 0.0 due to no predicted samples. Use `zero_division` parameter to control this behavior.\n",
      "  _warn_prf(average, modifier, f\"{metric.capitalize()} is\", len(result))\n"
     ]
    }
   ],
   "source": [
    "reprot = pd.DataFrame(columns=[\"auc\", \"acc\", \"P\", \"R\", \"F1\"])\n",
    "for k,v in results_binary.items():\n",
    "    score_all = []\n",
    "    all_probs = []\n",
    "    all_y_true = []\n",
    "    \n",
    "    for random_state, data in v.items():\n",
    "        all_probs.extend(data[\"probs_value_1\"])\n",
    "        all_y_true.extend(data[\"y_true\"])\n",
    "\n",
    "    all_probs = np.array(all_probs)\n",
    "    all_y_true = np.array(all_y_true)\n",
    "    score_all.append(round(roc_auc_score(np.array(all_y_true), np.array(all_probs)), 3))\n",
    "\n",
    "    all_y_pred = all_probs >= 0.3\n",
    "    score_all.append(round(accuracy_score(all_y_true , all_y_pred), 3))\n",
    "    score_all.append(round(precision_score(all_y_true , all_y_pred), 3))\n",
    "    score_all.append(round(recall_score(all_y_true , all_y_pred), 3))\n",
    "    score_all.append(round(f1_score(all_y_true, all_y_pred), 3))\n",
    "    reprot.loc[k] = score_all\n"
   ]
  },
  {
   "cell_type": "code",
   "execution_count": 6,
   "metadata": {},
   "outputs": [
    {
     "name": "stdout",
     "output_type": "stream",
     "text": [
      "                      auc    acc    P      R      F1   \n",
      "m2.v2.vote2.14B       0.789  0.656  0.821  0.300  0.440\n",
      "m2.v5.14B.14B         0.798  0.716  0.676  0.709  0.692\n",
      "m2.v2.lgb.14B         0.800  0.707  0.757  0.514  0.612\n",
      "Qwen0.5               0.473  0.481  0.432  0.489  0.459\n",
      "m2.v1.Qwen0.5B        0.688  0.585  0.716  0.128  0.217\n",
      "m2.v1.Gemma2B         0.607  0.597  0.561  0.479  0.517\n",
      "gemma2b               0.619  0.597  0.626  0.484  0.546\n",
      "Gemma9B               0.673  0.628  0.585  0.591  0.588\n",
      "m1.v3.lgb.llama1B     0.664  0.614  0.651  0.308  0.418\n",
      "m1.v4.lgb.llama1B     0.694  0.604  0.763  0.174  0.283\n",
      "m2.v1.14B.llama1B     0.724  0.663  0.625  0.623  0.624\n",
      "m2.v3.lgb.Llama1B     0.701  0.639  0.580  0.716  0.641\n",
      "m1.v5.lgb.Llama1B     0.675  0.593  0.803  0.124  0.215\n",
      "m2.v2.mean.Llama1B    0.732  0.673  0.655  0.578  0.614\n",
      "m1.v1.vote3.Llama1B   0.678  0.621  0.594  0.497  0.541\n",
      "m2.v1.9B.Llama1B      0.672  0.637  0.625  0.485  0.546\n",
      "m2.v1.7B.Llama1B      0.707  0.550  0.000  0.000  0.000\n",
      "m2.v1.vote2.Llama1B   0.688  0.616  0.553  0.761  0.641\n",
      "m1.v7.lgb.Llama1B     0.691  0.604  0.541  0.802  0.646\n",
      "m2.v1.8B.Llama1B      0.718  0.589  0.843  0.105  0.187\n",
      "m2.v7.mean.Llama1B    0.735  0.678  0.648  0.620  0.634\n",
      "m1.v4.lgb.Llama1B     0.691  0.606  0.762  0.179  0.290\n",
      "m1.m2.mean.Llama1B    0.681  0.611  0.753  0.202  0.318\n",
      "m1.v1.14B.Llama1B     0.685  0.599  0.535  0.832  0.651\n",
      "m1.v1.lgb.LLama1B     0.655  0.580  0.732  0.104  0.181\n",
      "m1.v2.vote3.LLama1B   0.674  0.622  0.652  0.344  0.450\n",
      "m2.v1.lgb..LLama1B    0.726  0.656  0.701  0.409  0.517\n",
      "LLama1B               0.552  0.501  0.464  0.694  0.556\n",
      "m2.v1.vote2..LLama1B  0.728  0.669  0.645  0.587  0.614\n",
      "m2.v1.vote3.LLama1B   0.725  0.646  0.715  0.356  0.475\n",
      "m2.v2.9b-05.LLama1B   0.683  0.630  0.576  0.674  0.621\n",
      "m1.m2.v2.lgb.LLama1B  0.723  0.640  0.718  0.329  0.452\n",
      "m2.v3.mean.LLama1B    0.715  0.636  0.570  0.777  0.657\n",
      "m2.v6.lgb.LLama1B     0.677  0.526  0.486  0.931  0.639\n",
      "m2.v1.9B.LLama1B      0.604  0.556  0.504  0.798  0.618\n",
      "m2.v9.lgb.LLama1B     0.737  0.605  0.536  0.898  0.671\n",
      "m1.v2.lgb.LLama1B     0.674  0.625  0.621  0.425  0.505\n",
      "m2.v14.lgb.LLama1B    0.708  0.544  0.496  0.926  0.646\n",
      "m2.v7.Lgb.LLama1B     0.696  0.526  0.486  0.946  0.642\n",
      "m2.v2.14B.LLama1B     0.744  0.648  0.602  0.874  0.713\n",
      "m2.v1.9b.LLama1B      0.734  0.621  0.550  0.862  0.671\n",
      "m2.v7.lgb.LLama1B     0.737  0.570  0.512  0.939  0.662\n",
      "m2.v8.lgb.LLama1B     0.722  0.592  0.527  0.900  0.665\n",
      "m2.v2.vote2.LLama1B   0.729  0.670  0.627  0.656  0.641\n",
      "m1.v1.9b.LLama1B      0.613  0.467  0.457  0.984  0.624\n",
      "m1.v1.9b-05.LLama1B   0.698  0.583  0.521  0.894  0.659\n",
      "m2.v2.lgb.LLama1B     0.737  0.663  0.725  0.403  0.518\n",
      "m2.v1.mean.LLama1B    0.727  0.669  0.663  0.536  0.593\n",
      "m2.v1.7b.LLama1B      0.718  0.661  0.639  0.565  0.600\n",
      "m1.v1.8b.LLama1B      0.657  0.615  0.639  0.332  0.437\n",
      "m1.v1.8b-05.LLama1B   0.657  0.615  0.640  0.329  0.435\n",
      "m1.v1.mean.LLama1B    0.684  0.621  0.563  0.707  0.627\n",
      "m2.v9.lgb.LLama1B8    0.736  0.608  0.539  0.890  0.672\n",
      "m1.v5.lgb.Llama1B_1   0.680  0.581  0.832  0.086  0.156\n",
      "m2.v1.7b.LLama1B_1    0.676  0.608  0.547  0.752  0.633\n",
      "m1.v1.lgb.LLama1B_1   0.679  0.623  0.580  0.585  0.583\n",
      "m2.v7.lgb.LLama1B_1   0.692  0.519  0.482  0.954  0.641\n",
      "m2.v7.lgb.LLama1B_2   0.738  0.577  0.516  0.932  0.664\n",
      "m2.v1.7b.LLama1B_2    0.714  0.657  0.604  0.693  0.645\n",
      "m2.v9.lgb.Llama8B     0.784  0.689  0.616  0.818  0.703\n",
      "Llama8B               0.731  0.656  0.683  0.437  0.533\n",
      "m2.v1.Llama8B         0.739  0.670  0.660  0.552  0.601\n",
      "Mistral-7B            0.711  0.668  0.671  0.511  0.580\n",
      "m1.v5.14b.Qwen14B     0.773  0.693  0.625  0.793  0.699\n",
      "Qwen14B               0.762  0.713  0.682  0.678  0.680\n",
      "m1.v1.vote3.Qwen14B   0.772  0.690  0.622  0.793  0.697\n",
      "m2.v4.mean.Qwen14B    0.781  0.703  0.695  0.605  0.647\n",
      "m1.v1.9b-05.Qwen14B   0.770  0.689  0.620  0.795  0.697\n",
      "m1.v1.vote2.QWen14B   0.774  0.692  0.623  0.795  0.699\n",
      "m2.v2.Qwen14B         0.783  0.706  0.666  0.693  0.679\n",
      "qwen7B                0.727  0.689  0.659  0.637  0.648\n"
     ]
    }
   ],
   "source": [
    "print(reprot)"
   ]
  }
 ],
 "metadata": {
  "kernelspec": {
   "display_name": "Python 3 (ipykernel)",
   "language": "python",
   "name": "python3"
  },
  "language_info": {
   "codemirror_mode": {
    "name": "ipython",
    "version": 3
   },
   "file_extension": ".py",
   "mimetype": "text/x-python",
   "name": "python",
   "nbconvert_exporter": "python",
   "pygments_lexer": "ipython3",
   "version": "3.11.11"
  }
 },
 "nbformat": 4,
 "nbformat_minor": 2
}
