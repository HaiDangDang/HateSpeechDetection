{
 "cells": [
  {
   "cell_type": "code",
   "execution_count": 1,
   "metadata": {},
   "outputs": [
    {
     "name": "stdout",
     "output_type": "stream",
     "text": [
      "🦥 Unsloth: Will patch your computer to enable 2x faster free finetuning.\n",
      "🦥 Unsloth Zoo will now patch everything to make training faster!\n"
     ]
    }
   ],
   "source": [
    "import pandas as pd\n",
    "import json\n",
    "import os\n",
    "import ast\n",
    "import re\n",
    "import numpy as np\n",
    "import matplotlib.pyplot as plt\n",
    "import torch\n",
    "from time import time\n",
    "from sklearn.metrics import roc_curve, roc_auc_score, accuracy_score, f1_score,  recall_score, confusion_matrix, precision_score\n",
    "from transformers import (\n",
    "    set_seed,\n",
    ")\n",
    "set_seed(42)\n",
    "\n",
    "from unsloth import FastLanguageModel\n",
    "max_seq_length = 500\n",
    "from tqdm import tqdm\n",
    "\n",
    "import pickle"
   ]
  },
  {
   "cell_type": "code",
   "execution_count": 2,
   "metadata": {},
   "outputs": [],
   "source": [
    "random_state_list = [42, 57, 120, 98, 65, 74]"
   ]
  },
  {
   "cell_type": "code",
   "execution_count": 3,
   "metadata": {},
   "outputs": [
    {
     "name": "stdout",
     "output_type": "stream",
     "text": [
      "/root/0_Thesis/0_final\n"
     ]
    }
   ],
   "source": [
    "if os.getcwd() == '/root':\n",
    "    new_path = \"/root/0_Thesis/0_final/\"\n",
    "    os.chdir(new_path)\n",
    "else:\n",
    "    os.chdir(\"..\") \n",
    "print(os.getcwd())"
   ]
  },
  {
   "cell_type": "markdown",
   "metadata": {},
   "source": [
    "# Section 1: Load Human Label Data"
   ]
  },
  {
   "cell_type": "code",
   "execution_count": 28,
   "metadata": {},
   "outputs": [
    {
     "name": "stdout",
     "output_type": "stream",
     "text": [
      "(84083, 7)\n"
     ]
    }
   ],
   "source": [
    "df_evaluation = pd.read_csv(\"data/human/1_combine_hate_ds.csv\")\n",
    "df_evaluation['len_text'] = df_evaluation['text'].str.len()\n",
    "df_evaluation = df_evaluation[df_evaluation['len_text'] <= 300]\n",
    "print(df_evaluation.shape)"
   ]
  },
  {
   "cell_type": "code",
   "execution_count": 29,
   "metadata": {},
   "outputs": [
    {
     "data": {
      "text/plain": [
       "dataset\n",
       "ViHSD           30571\n",
       "HateSpeechX     20022\n",
       "Sexism          13631\n",
       "GermEval2019    12131\n",
       "GermEval2021     3457\n",
       "Covid            2164\n",
       "US_election      2107\n",
       "Name: count, dtype: int64"
      ]
     },
     "execution_count": 29,
     "metadata": {},
     "output_type": "execute_result"
    }
   ],
   "source": [
    "df_evaluation.dataset.value_counts()"
   ]
  },
  {
   "cell_type": "code",
   "execution_count": 30,
   "metadata": {},
   "outputs": [
    {
     "data": {
      "text/plain": [
       "hate_label_id\n",
       "1    58915\n",
       "0    25168\n",
       "Name: count, dtype: int64"
      ]
     },
     "execution_count": 30,
     "metadata": {},
     "output_type": "execute_result"
    }
   ],
   "source": [
    "df_evaluation.hate_label_id.value_counts()"
   ]
  },
  {
   "cell_type": "code",
   "execution_count": 31,
   "metadata": {},
   "outputs": [
    {
     "data": {
      "text/plain": [
       "language\n",
       "eng    37924\n",
       "vie    30571\n",
       "deu    15588\n",
       "Name: count, dtype: int64"
      ]
     },
     "execution_count": 31,
     "metadata": {},
     "output_type": "execute_result"
    }
   ],
   "source": [
    "df_evaluation.language.value_counts()"
   ]
  },
  {
   "cell_type": "code",
   "execution_count": 32,
   "metadata": {},
   "outputs": [
    {
     "data": {
      "text/plain": [
       "multi_label\n",
       "3    1553\n",
       "1    1367\n",
       "2    1084\n",
       "Name: count, dtype: int64"
      ]
     },
     "execution_count": 32,
     "metadata": {},
     "output_type": "execute_result"
    }
   ],
   "source": [
    "df_evaluation = df_evaluation[df_evaluation['dataset'] == 'HateSpeechX']\n",
    "df_evaluation['multi_label'] = 3\n",
    "#df_hate_Discrimination,offensive,hate\n",
    "df_evaluation.loc[df_evaluation['multi_label_id'] == '1', 'multi_label'] = 1\n",
    "df_evaluation.loc[df_evaluation['multi_label_id'] == '2', 'multi_label'] = 2\n",
    "df_evaluation.loc[df_evaluation['multi_label_id'] == '3', 'multi_label'] = 3\n",
    "\n",
    "\n",
    "df_evaluation = df_evaluation.sample(frac=0.2, random_state=42)\n",
    "df_evaluation['multi_label'].value_counts()"
   ]
  },
  {
   "cell_type": "markdown",
   "metadata": {},
   "source": [
    "# Section 2: Load Model"
   ]
  },
  {
   "cell_type": "code",
   "execution_count": null,
   "metadata": {},
   "outputs": [],
   "source": [
    "from langchain.chat_models import ChatOpenAI\n",
    "from langchain.schema import HumanMessage, SystemMessage\n",
    "model = \"llama3.1\"\n",
    "model = \"gemma2\"\n",
    "\n",
    "def chat_with_gemma2(messages, max_tokens=8000):\n",
    "    chat = ChatOpenAI(\n",
    "        openai_api_base=\"https://llms-inference.innkube.fim.uni-passau.de\",\n",
    "        api_key=\"\",\n",
    "        model=model,\n",
    "        temperature=0.1\n",
    "    )\n",
    "    \n",
    "    response = chat(messages=messages, max_tokens=max_tokens)\n",
    "    return response.content\n"
   ]
  },
  {
   "cell_type": "code",
   "execution_count": null,
   "metadata": {},
   "outputs": [],
   "source": [
    "prompt_template = \"\"\"\n",
    "You are tasked with annotating speech. Your response must be a single valid number corresponding to the category of the speech:\n",
    "\n",
    "    1 for Hate Speech.\n",
    "    2 for Offensive.\n",
    "    3 for Normal.\n",
    "\n",
    "Think step by step:\n",
    "- Identify whether the comment contains explicit hate towards a group or individual based on identity characteristics (Hate Speech).\n",
    "- If the comment is aggressive, rude, or contains insults but lacks clear hateful intent, classify it as Offensive Speech.\n",
    "- If the comment is neutral or non-offensive, classify it as Normal Speech.\n",
    "You will be given a list of comments. For each comment, return the number corresponding to the appropriate category. \n",
    "\n",
    "Provide **only** the numbers in a list format, with no explanations or additional text.\n",
    "\n",
    "Your answer should be in this format:\n",
    "\n",
    "[2, 1, 2, 3, 1]\n",
    "\n",
    "Examples:\n",
    "2. \"You're an idiot! Learn how to think properly.\"  \n",
    "1. \"I hate all people of this group. They should be banned.\"  \n",
    "3. \"I hope you have a great day!\"  \n",
    "Your Answer: [2,1,3]  \n",
    "Do you think the following comment is related to hate speech or offensive speech, or is it Normal speech?\n",
    "1. \"{comment_list}\"\n",
    "\n",
    "\"\"\"\n",
    "df_evaluation = df_evaluation.reset_index()\n",
    "df_evaluation = df_evaluation.sample(n=1000).reset_index()"
   ]
  },
  {
   "cell_type": "markdown",
   "metadata": {},
   "source": [
    "# Section 3: Evaluation"
   ]
  },
  {
   "cell_type": "code",
   "execution_count": 36,
   "metadata": {},
   "outputs": [
    {
     "name": "stderr",
     "output_type": "stream",
     "text": [
      "Processing batches: 100%|█████████████████████████████████████████| 200/200 [16:05<00:00,  4.83s/it]\n"
     ]
    }
   ],
   "source": [
    "def batch_comments(comments, batch_size):\n",
    "    for i in range(0, len(comments), batch_size):\n",
    "        yield comments[i:i + batch_size]\n",
    "all_test = df_evaluation[\"text\"].tolist()\n",
    "\n",
    "result_text = []\n",
    "batch_s = 5\n",
    "col = f\"{model}_few_short_5\"\n",
    "df_evaluation[col] = 3\n",
    "counter = 0\n",
    "\n",
    "for batch in tqdm(batch_comments(all_test, batch_s), desc=\"Processing batches\", total=len(all_test)//batch_s + (1 if len(all_test)%batch_s != 0 else 0)):\n",
    "    comment_list = \"\\n\".join([f'{i+1}. \"{comment}\"' for i, comment in enumerate(batch)])\n",
    "    \n",
    "    final_prompt = prompt_template.format(comment_list=comment_list)\n",
    "    \n",
    "    messages = [\n",
    "    SystemMessage(\n",
    "        content=\"You are a helpful assistant.\"\n",
    "    ),\n",
    "    HumanMessage(\n",
    "        content=final_prompt\n",
    "    ),\n",
    "    ]\n",
    "    \n",
    "    output = chat_with_gemma2(messages)\n",
    "    try:\n",
    "        int_list = ast.literal_eval(output)\n",
    "    except:\n",
    "        int_list = [3 for i in range(batch_s)]\n",
    "    \n",
    "    df_evaluation.loc[counter * batch_s : counter * batch_s + len(int_list) - 1 , col] = int_list[:batch_s]\n",
    "    counter += 1\n",
    " \n",
    "    result_text += int_list\n"
   ]
  },
  {
   "cell_type": "code",
   "execution_count": 38,
   "metadata": {},
   "outputs": [
    {
     "name": "stdout",
     "output_type": "stream",
     "text": [
      "ACC:  0.501\n",
      "Precision:  0.5570869108976328\n",
      "Recall:  0.5013171707489174\n",
      "F1:  0.4567889340648998\n"
     ]
    }
   ],
   "source": [
    "y_true = df_evaluation['multi_label']\n",
    "y_pred = df_evaluation[col]\n",
    "print(\"ACC: \",accuracy_score(y_true, y_pred))\n",
    "print(\"Precision: \",precision_score(y_true, y_pred, average=\"macro\"))\n",
    "print(\"Recall: \",recall_score(y_true, y_pred, average=\"macro\"))\n",
    "print(\"F1: \",f1_score(y_true, y_pred, average=\"macro\"))\n"
   ]
  }
 ],
 "metadata": {
  "kernelspec": {
   "display_name": "Python 3 (ipykernel)",
   "language": "python",
   "name": "python3"
  },
  "language_info": {
   "codemirror_mode": {
    "name": "ipython",
    "version": 3
   },
   "file_extension": ".py",
   "mimetype": "text/x-python",
   "name": "python",
   "nbconvert_exporter": "python",
   "pygments_lexer": "ipython3",
   "version": "3.11.11"
  }
 },
 "nbformat": 4,
 "nbformat_minor": 2
}
