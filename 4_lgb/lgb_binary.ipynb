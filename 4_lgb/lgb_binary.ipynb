{
 "cells": [
  {
   "cell_type": "markdown",
   "metadata": {},
   "source": [
    "# Section 1: Load Model"
   ]
  },
  {
   "cell_type": "code",
   "execution_count": 19,
   "metadata": {},
   "outputs": [],
   "source": [
    "# For dataset\n",
    "import pandas as pd\n",
    "import json\n",
    "import os\n",
    "import ast\n",
    "import re\n",
    "import numpy as np\n",
    "from datasets import Dataset\n",
    "import matplotlib.pyplot as plt\n",
    "\n",
    "\n",
    "import torch\n",
    "from time import time\n",
    " \n",
    "# For wandb\n",
    "import wandb\n",
    "# Set seed\n",
    "import pickle\n",
    "set_seed(42)\n",
    "import seaborn as sns\n",
    "from copy import deepcopy\n",
    "from tqdm import tqdm\n",
    "PATH = \"0_Thesis/4_Multi/\""
   ]
  },
  {
   "cell_type": "code",
   "execution_count": 2,
   "metadata": {},
   "outputs": [
    {
     "name": "stdout",
     "output_type": "stream",
     "text": [
      "/root/0_Thesis/0_final\n"
     ]
    }
   ],
   "source": [
    "if os.getcwd() == '/root':\n",
    "    new_path = \"/root/0_Thesis/0_final/\"\n",
    "    os.chdir(new_path)\n",
    "else:\n",
    "    os.chdir(\"..\") \n",
    "print(os.getcwd())"
   ]
  },
  {
   "cell_type": "code",
   "execution_count": 6,
   "metadata": {},
   "outputs": [],
   "source": [
    "model_id = \"unsloth/Llama-3.2-1B-Instruct-bnb-4bit\"\n",
    "# model_id =\"unsloth/Qwen2.5-14B-Instruct-bnb-4bit\"\n",
    "# model_id = \"unsloth/gemma-2-9b-it-bnb-4bit\""
   ]
  },
  {
   "cell_type": "code",
   "execution_count": 9,
   "metadata": {},
   "outputs": [],
   "source": [
    "df = pd.read_csv(\"lgb/lgb_with_llm_probs_binary.csv\")"
   ]
  },
  {
   "cell_type": "code",
   "execution_count": 10,
   "metadata": {},
   "outputs": [
    {
     "data": {
      "text/plain": [
       "(63512, 17)"
      ]
     },
     "execution_count": 10,
     "metadata": {},
     "output_type": "execute_result"
    }
   ],
   "source": [
    "df.shape"
   ]
  },
  {
   "cell_type": "code",
   "execution_count": 12,
   "metadata": {},
   "outputs": [],
   "source": [
    "import lightgbm as lgb\n",
    "from sklearn.model_selection import train_test_split\n",
    "from sklearn.metrics import accuracy_score"
   ]
  },
  {
   "cell_type": "markdown",
   "metadata": {},
   "source": [
    "# Label 1"
   ]
  },
  {
   "cell_type": "code",
   "execution_count": 13,
   "metadata": {},
   "outputs": [],
   "source": [
    "df['true_label']   = 0\n",
    "df.loc[df['hate_label_id'] == 1, 'true_label'] = 1"
   ]
  },
  {
   "cell_type": "code",
   "execution_count": null,
   "metadata": {},
   "outputs": [
    {
     "name": "stdout",
     "output_type": "stream",
     "text": [
      "0.7928211586901763\n"
     ]
    }
   ],
   "source": [
    "X = df[['unsloth/Qwen2.5-14B-Instruct-bnb-4bit_label_1', 'unsloth/Meta-Llama-3.1-8B-Instruct-bnb-4bit_label_1', 'unsloth/mistral-7b-instruct-v0.3-bnb-4bit_label_1', 'unsloth/gemma-2-9b-it-bnb-4bit_label_1']]\n",
    "y = df['true_label']  \n",
    "\n",
    "X_train, X_val, y_train, y_val = train_test_split(X, y, test_size=0.1, random_state=42)\n",
    "\n",
    "\n",
    "train_data = lgb.Dataset(X_train, label=y_train)\n",
    "val_data = lgb.Dataset(X_val, label=y_val, reference=train_data)\n",
    "\n",
    "params = {\n",
    "    'objective': 'binary', \n",
    "    'metric': 'binary_logloss', \n",
    "    'boosting_type': 'gbdt', \n",
    "    'num_leaves': 34, \n",
    "    'learning_rate': 0.05,\n",
    "    'feature_fraction': 0.9, \n",
    "    'bagging_fraction': 0.8, \n",
    "    'bagging_freq': 5, \n",
    "    'verbose': -1, \n",
    "}\n",
    "\n",
    "model = lgb.train(\n",
    "    params,\n",
    "    train_data,\n",
    "    valid_sets=[val_data],\n",
    "    # verbose_eval=10,\n",
    ")\n",
    "\n",
    "val_preds = model.predict(X_val, num_iteration=model.best_iteration)\n",
    "val_preds_binary = np.round(val_preds) \n",
    "\n",
    "accuracy = accuracy_score(y_val, val_preds_binary)\n",
    "print(accuracy)\n",
    "# model.booster_.save_model(\"lgb_model.json\", format=\"json\")"
   ]
  },
  {
   "cell_type": "markdown",
   "metadata": {},
   "source": [
    "# Label 2"
   ]
  },
  {
   "cell_type": "code",
   "execution_count": 18,
   "metadata": {},
   "outputs": [],
   "source": [
    "X = df[['unsloth/Qwen2.5-14B-Instruct-bnb-4bit_label_2', 'unsloth/Meta-Llama-3.1-8B-Instruct-bnb-4bit_label_2', 'unsloth/mistral-7b-instruct-v0.3-bnb-4bit_label_2', 'unsloth/gemma-2-9b-it-bnb-4bit_label_2']]\n",
    "y = df['hate_label_id']  \n",
    "X_train, X_val, y_train, y_val = train_test_split(X, y, test_size=0.1, random_state=42)\n",
    "\n",
    "train_data = lgb.Dataset(X_train, label=y_train)\n",
    "val_data = lgb.Dataset(X_val, label=y_val, reference=train_data)\n",
    "\n",
    "params = {\n",
    "    'objective': 'binary', \n",
    "    'metric': 'binary_logloss',\n",
    "    'boosting_type': 'gbdt',\n",
    "    'num_leaves': 34,\n",
    "    'learning_rate': 0.05, \n",
    "    'feature_fraction': 0.9, \n",
    "    'bagging_fraction': 0.8,\n",
    "    'bagging_freq': 5,  \n",
    "    'verbose': -1, \n",
    "}\n",
    "\n",
    "model = lgb.train(\n",
    "    params,\n",
    "    train_data,\n",
    "    valid_sets=[val_data],\n",
    "    num_boost_round=1000,\n",
    "\n",
    ")\n",
    "val_preds = model.predict(X_val, num_iteration=model.best_iteration)\n",
    "\n",
    "# roc_auc_score(y_val, val_preds)\n",
    "# with open(\"lgb_model_1.pkl\", \"wb\") as f:\n",
    "#     pickle.dump(model, f)"
   ]
  }
 ],
 "metadata": {
  "kernelspec": {
   "display_name": "Python 3 (ipykernel)",
   "language": "python",
   "name": "python3"
  },
  "language_info": {
   "codemirror_mode": {
    "name": "ipython",
    "version": 3
   },
   "file_extension": ".py",
   "mimetype": "text/x-python",
   "name": "python",
   "nbconvert_exporter": "python",
   "pygments_lexer": "ipython3",
   "version": "3.11.11"
  }
 },
 "nbformat": 4,
 "nbformat_minor": 2
}
