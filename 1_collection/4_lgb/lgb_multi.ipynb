{
 "cells": [
  {
   "cell_type": "markdown",
   "metadata": {},
   "source": [
    "# Section 1: Load Model"
   ]
  },
  {
   "cell_type": "code",
   "execution_count": null,
   "metadata": {},
   "outputs": [],
   "source": [
    "# For dataset\n",
    "import pandas as pd\n",
    "import json\n",
    "import os\n",
    "import ast\n",
    "import re\n",
    "import numpy as np\n",
    "from datasets import Dataset\n",
    "import matplotlib.pyplot as plt\n",
    "\n",
    "\n",
    "import torch\n",
    "from time import time\n",
    " \n",
    "import wandb\n",
    "# Set seed\n",
    "import pickle\n",
    "set_seed(42)\n",
    "import seaborn as sns\n",
    "from copy import deepcopy\n",
    "from tqdm import tqdm\n",
    "PATH = \"0_Thesis/4_Multi/\""
   ]
  },
  {
   "cell_type": "code",
   "execution_count": 2,
   "metadata": {},
   "outputs": [
    {
     "name": "stdout",
     "output_type": "stream",
     "text": [
      "/root/0_Thesis/0_final\n"
     ]
    }
   ],
   "source": [
    "if os.getcwd() == '/root':\n",
    "    new_path = \"/root/0_Thesis/0_final/\"\n",
    "    os.chdir(new_path)\n",
    "else:\n",
    "    os.chdir(\"..\") \n",
    "print(os.getcwd())"
   ]
  },
  {
   "cell_type": "code",
   "execution_count": 6,
   "metadata": {},
   "outputs": [],
   "source": [
    "model_id = \"unsloth/Llama-3.2-1B-Instruct-bnb-4bit\"\n",
    "# model_id =\"unsloth/Qwen2.5-14B-Instruct-bnb-4bit\"\n",
    "# model_id = \"unsloth/gemma-2-9b-it-bnb-4bit\""
   ]
  },
  {
   "cell_type": "code",
   "execution_count": 20,
   "metadata": {},
   "outputs": [],
   "source": [
    "df = pd.read_csv(\"lgb/lgb_with_llm_probs_multi.csv\")"
   ]
  },
  {
   "cell_type": "code",
   "execution_count": 21,
   "metadata": {},
   "outputs": [
    {
     "data": {
      "text/plain": [
       "(44775, 14)"
      ]
     },
     "execution_count": 21,
     "metadata": {},
     "output_type": "execute_result"
    }
   ],
   "source": [
    "df.shape"
   ]
  },
  {
   "cell_type": "code",
   "execution_count": 22,
   "metadata": {},
   "outputs": [],
   "source": [
    "import lightgbm as lgb\n",
    "from sklearn.model_selection import train_test_split\n",
    "from sklearn.metrics import accuracy_score"
   ]
  },
  {
   "cell_type": "code",
   "execution_count": 23,
   "metadata": {},
   "outputs": [],
   "source": [
    "mstral7b = \"unsloth/mistral-7b-instruct-v0.3-bnb-4bit\"\n",
    "# llama8b = \"unsloth/Meta-Llama-3.1-8B-Instruct-bnb-4bit\"\n",
    "gemma9b = \"unsloth/gemma-2-9b-it-bnb-4bit\"\n",
    "qwen14b = \"unsloth/Qwen2.5-14B-Instruct-bnb-4bit\"\n",
    "columns = [mstral7b, gemma9b, qwen14b]"
   ]
  },
  {
   "cell_type": "code",
   "execution_count": 24,
   "metadata": {},
   "outputs": [
    {
     "data": {
      "text/plain": [
       "label_id\n",
       "2    24611\n",
       "3    11936\n",
       "1     8228\n",
       "Name: count, dtype: int64"
      ]
     },
     "execution_count": 24,
     "metadata": {},
     "output_type": "execute_result"
    }
   ],
   "source": [
    "df['label_id'].value_counts()"
   ]
  },
  {
   "cell_type": "code",
   "execution_count": null,
   "metadata": {},
   "outputs": [],
   "source": [
    "mstral7b = \"unsloth/mistral-7b-instruct-v0.3-bnb-4bit\"\n",
    "# llama8b = \"unsloth/Meta-Llama-3.1-8B-Instruct-bnb-4bit\"\n",
    "gemma9b = \"unsloth/gemma-2-9b-it-bnb-4bit\"\n",
    "qwen14b = \"unsloth/Qwen2.5-14B-Instruct-bnb-4bit\"\n",
    "columns = [mstral7b, gemma9b, qwen14b]\n",
    "all_cols = []\n",
    "for col in columns:\n",
    "    all_cols.append(col + \"_label_1\")\n",
    "    all_cols.append(col + \"_label_2\")\n",
    "    all_cols.append(col + \"_label_3\")\n",
    "\n",
    "\n",
    "X = df[all_cols]\n",
    "y = df['label_id']  - 1\n",
    "\n",
    "X_train, X_val, y_train, y_val = train_test_split(X, y, test_size=0.1, random_state=42)\n",
    "\n",
    "train_data = lgb.Dataset(X_train, label=y_train)\n",
    "val_data = lgb.Dataset(X_val, label=y_val, reference=train_data)\n",
    "\n",
    "# Set LightGBM parameters\n",
    "params = {\n",
    "    'objective': 'multiclass',  \n",
    "    'num_class': len(y.unique()), \n",
    "    'metric': 'multi_logloss', \n",
    "    'boosting_type': 'gbdt', \n",
    "    'num_leaves': 34, \n",
    "    'learning_rate': 0.05, \n",
    "    'feature_fraction': 0.9, \n",
    "    'bagging_fraction': 0.8,  \n",
    "    'bagging_freq': 5,\n",
    "    'verbose': -1, \n",
    "}\n",
    "\n",
    "model = lgb.train(\n",
    "    params,\n",
    "    train_data,\n",
    "    valid_sets=[val_data],\n",
    "    num_boost_round=1000,\n",
    "\n",
    ")\n",
    "\n",
    "val_preds = model.predict(X_val, num_iteration=model.best_iteration)\n",
    "val_preds_binary = np.round(val_preds) \n",
    "\n",
    "# Evaluate the meta-learner\n",
    "# accuracy = accuracy_score(y_val, val_preds_binary)\n",
    "# accuracy"
   ]
  },
  {
   "cell_type": "code",
   "execution_count": null,
   "metadata": {},
   "outputs": [
    {
     "data": {
      "text/plain": [
       "0.719740955783832"
      ]
     },
     "execution_count": 29,
     "metadata": {},
     "output_type": "execute_result"
    }
   ],
   "source": [
    "val_preds = [list(x).index(max(x)) for x in val_preds]\n",
    "accuracy = accuracy_score(y_val, val_preds)\n",
    "accuracy"
   ]
  }
 ],
 "metadata": {
  "kernelspec": {
   "display_name": "Python 3 (ipykernel)",
   "language": "python",
   "name": "python3"
  }
 },
 "nbformat": 4,
 "nbformat_minor": 2
}
