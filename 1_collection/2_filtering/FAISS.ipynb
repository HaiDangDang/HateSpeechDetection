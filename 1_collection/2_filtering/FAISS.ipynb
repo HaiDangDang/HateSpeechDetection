{
 "cells": [
  {
   "cell_type": "code",
   "execution_count": null,
   "metadata": {},
   "outputs": [],
   "source": [
    "import pandas as pd\n",
    "import json\n",
    "import os\n",
    "import ast\n",
    "import re\n",
    "import numpy as np\n",
    "import matplotlib.pyplot as plt\n",
    "\n",
    "from transformers import (\n",
    "\n",
    "    set_seed,\n",
    "    \n",
    ")\n",
    "\n",
    "import torch\n",
    "from time import time\n",
    "import faiss\n",
    "from sentence_transformers import SentenceTransformer\n",
    "# For wandb\n",
    "import wandb\n",
    "# Set seed\n",
    "import pickle\n",
    "set_seed(42)\n",
    "\n",
    "import seaborn as sns\n",
    "from copy import deepcopy\n",
    "from tqdm import tqdm\n"
   ]
  },
  {
   "cell_type": "code",
   "execution_count": 11,
   "metadata": {},
   "outputs": [
    {
     "name": "stdout",
     "output_type": "stream",
     "text": [
      "/root/0_Thesis\n"
     ]
    }
   ],
   "source": [
    "if os.getcwd() == '/root':\n",
    "    new_path = \"/root/0_Thesis/0_final/\"\n",
    "    os.chdir(new_path)\n",
    "else:\n",
    "    os.chdir(\"..\") \n",
    "print(os.getcwd())"
   ]
  },
  {
   "cell_type": "code",
   "execution_count": null,
   "metadata": {},
   "outputs": [],
   "source": [
    "languages = ['deu', 'eng', 'vie']"
   ]
  },
  {
   "cell_type": "code",
   "execution_count": null,
   "metadata": {},
   "outputs": [],
   "source": [
    "language = 'deu'\n",
    "owilix_df = pd.read_csv(\"data/raw/m1_\" + f\"{language}_raw_owilix.csv\")\n",
    "owilix_df = owilix_df.drop(columns=\"Unnamed: 0\")"
   ]
  },
  {
   "cell_type": "code",
   "execution_count": 9,
   "metadata": {},
   "outputs": [
    {
     "name": "stdout",
     "output_type": "stream",
     "text": [
      "(15588, 7)\n"
     ]
    }
   ],
   "source": [
    "df_human = pd.read_csv(\"data/human/1_combine_hate_ds.csv\")\n",
    "df_human['len_text'] = df_human['text'].str.len()\n",
    "df_human = df_human[df_human['len_text'] <= 300]\n",
    "df_human = df_human[df_human['language'] == language]\n",
    "\n",
    "print(df_human.shape)"
   ]
  },
  {
   "cell_type": "code",
   "execution_count": null,
   "metadata": {},
   "outputs": [],
   "source": [
    "df_human_text = df_human['text'].tolist()"
   ]
  },
  {
   "cell_type": "code",
   "execution_count": null,
   "metadata": {},
   "outputs": [],
   "source": [
    "res = faiss.StandardGpuResources() "
   ]
  },
  {
   "cell_type": "code",
   "execution_count": null,
   "metadata": {},
   "outputs": [],
   "source": [
    "human_cmts = df_human_text\n",
    "batch_size = 100000\n",
    "k = 2\n",
    "model = SentenceTransformer('all-MiniLM-L6-v2')\n",
    "\n",
    "hate_speech_embeddings = model.encode(human_cmts, convert_to_numpy=True)\n",
    "dimension = hate_speech_embeddings.shape[1]\n",
    " \n",
    "delta_s = hate_speech_embeddings\n",
    "delta_k = human_cmts\n",
    "filter_cmts =[]\n",
    "\n",
    "for index_b in range(0, int(len(owilix_df)/batch_size) + 1): \n",
    "    print(index_b, len(filter_cmts))\n",
    "    filter_cmts_index = []\n",
    "    owilix_small_1 =  owilix_df.iloc[index_b * batch_size: (index_b+1)*batch_size] \n",
    "    index = faiss.IndexFlatL2(dimension)\n",
    "    gpu_index_flat = faiss.index_cpu_to_gpu(res, 0, index)\n",
    "    cmts = owilix_small_1['text'].tolist()\n",
    "    comment_embeddings = model.encode(cmts, convert_to_numpy=True)\n",
    "    gpu_index_flat.add(comment_embeddings)\n",
    "    for i, sample_embedding in enumerate(hate_speech_embeddings):\n",
    "        distances, indices = gpu_index_flat.search(np.array([sample_embedding]), k)  # Perform the search\n",
    "        for j in range(k):\n",
    "            filter_cmts_index.append(int(indices[0][j]))\n",
    "    filter_cmts_index = np.unique(filter_cmts_index)\n",
    "    for j in filter_cmts_index:\n",
    "        filter_cmts.append(cmts[j])"
   ]
  },
  {
   "cell_type": "code",
   "execution_count": null,
   "metadata": {},
   "outputs": [],
   "source": [
    "import json\n",
    "with open(\"data/raw\" + f\"m1_{language}_filtered\"  + \".json\", 'w') as file:\n",
    "    json.dump(filter_cmts, file)"
   ]
  }
 ],
 "metadata": {
  "kernelspec": {
   "display_name": "Python 3 (ipykernel)",
   "language": "python",
   "name": "python3"
  },
  "language_info": {
   "codemirror_mode": {
    "name": "ipython",
    "version": 3
   },
   "file_extension": ".py",
   "mimetype": "text/x-python",
   "name": "python",
   "nbconvert_exporter": "python",
   "pygments_lexer": "ipython3",
   "version": "3.11.11"
  }
 },
 "nbformat": 4,
 "nbformat_minor": 2
}
